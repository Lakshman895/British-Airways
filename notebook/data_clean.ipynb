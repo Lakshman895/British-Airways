{
 "cells": [
  {
   "cell_type": "markdown",
   "metadata": {},
   "source": [
    "### Overview of Data Cleaning\n",
    "\n",
    "1. 🔡 Convert All Text to Lowercase\n",
    "2. 🔢 Remove Numbers\n",
    "3. ❌ Remove Punctuation\n",
    "4. 🌪️ Remove Extra Whitespaces\n",
    "5. 🚫 Remove Stopwords\n",
    "6. 🧑‍🔬 Perform Lemmatization\n",
    "7. 📝 Correct Spelling"
   ]
  },
  {
   "cell_type": "code",
   "execution_count": 1,
   "metadata": {},
   "outputs": [],
   "source": [
    "import pandas as pd"
   ]
  },
  {
   "cell_type": "code",
   "execution_count": 5,
   "metadata": {},
   "outputs": [
    {
     "data": {
      "text/html": [
       "<div>\n",
       "<style scoped>\n",
       "    .dataframe tbody tr th:only-of-type {\n",
       "        vertical-align: middle;\n",
       "    }\n",
       "\n",
       "    .dataframe tbody tr th {\n",
       "        vertical-align: top;\n",
       "    }\n",
       "\n",
       "    .dataframe thead th {\n",
       "        text-align: right;\n",
       "    }\n",
       "</style>\n",
       "<table border=\"1\" class=\"dataframe\">\n",
       "  <thead>\n",
       "    <tr style=\"text-align: right;\">\n",
       "      <th></th>\n",
       "      <th>Unnamed: 0</th>\n",
       "      <th>reviews</th>\n",
       "    </tr>\n",
       "  </thead>\n",
       "  <tbody>\n",
       "    <tr>\n",
       "      <th>0</th>\n",
       "      <td>0</td>\n",
       "      <td>Not Verified |  Very good flight following an ...</td>\n",
       "    </tr>\n",
       "    <tr>\n",
       "      <th>1</th>\n",
       "      <td>1</td>\n",
       "      <td>Not Verified |  An hour's delay due to late ar...</td>\n",
       "    </tr>\n",
       "    <tr>\n",
       "      <th>2</th>\n",
       "      <td>2</td>\n",
       "      <td>✅ Trip Verified |   I booked through BA becaus...</td>\n",
       "    </tr>\n",
       "    <tr>\n",
       "      <th>3</th>\n",
       "      <td>3</td>\n",
       "      <td>✅ Trip Verified |   British airways lost bags ...</td>\n",
       "    </tr>\n",
       "    <tr>\n",
       "      <th>4</th>\n",
       "      <td>4</td>\n",
       "      <td>✅ Trip Verified | The check in process and rew...</td>\n",
       "    </tr>\n",
       "  </tbody>\n",
       "</table>\n",
       "</div>"
      ],
      "text/plain": [
       "   Unnamed: 0                                            reviews\n",
       "0           0  Not Verified |  Very good flight following an ...\n",
       "1           1  Not Verified |  An hour's delay due to late ar...\n",
       "2           2  ✅ Trip Verified |   I booked through BA becaus...\n",
       "3           3  ✅ Trip Verified |   British airways lost bags ...\n",
       "4           4  ✅ Trip Verified | The check in process and rew..."
      ]
     },
     "execution_count": 5,
     "metadata": {},
     "output_type": "execute_result"
    }
   ],
   "source": [
    "df = pd.read_csv('data/BA_reviews.csv')\n",
    "df.head()"
   ]
  },
  {
   "cell_type": "code",
   "execution_count": 6,
   "metadata": {},
   "outputs": [
    {
     "name": "stdout",
     "output_type": "stream",
     "text": [
      "<class 'pandas.core.frame.DataFrame'>\n",
      "RangeIndex: 1000 entries, 0 to 999\n",
      "Data columns (total 2 columns):\n",
      " #   Column      Non-Null Count  Dtype \n",
      "---  ------      --------------  ----- \n",
      " 0   Unnamed: 0  1000 non-null   int64 \n",
      " 1   reviews     1000 non-null   object\n",
      "dtypes: int64(1), object(1)\n",
      "memory usage: 15.8+ KB\n"
     ]
    }
   ],
   "source": [
    "df.info()"
   ]
  },
  {
   "cell_type": "code",
   "execution_count": 7,
   "metadata": {},
   "outputs": [
    {
     "data": {
      "text/plain": [
       "(1000, 2)"
      ]
     },
     "execution_count": 7,
     "metadata": {},
     "output_type": "execute_result"
    }
   ],
   "source": [
    "df.shape"
   ]
  },
  {
   "cell_type": "code",
   "execution_count": 8,
   "metadata": {},
   "outputs": [
    {
     "data": {
      "text/plain": [
       "Unnamed: 0    0\n",
       "reviews       0\n",
       "dtype: int64"
      ]
     },
     "execution_count": 8,
     "metadata": {},
     "output_type": "execute_result"
    }
   ],
   "source": [
    "df.isnull().sum()"
   ]
  },
  {
   "cell_type": "code",
   "execution_count": 9,
   "metadata": {},
   "outputs": [],
   "source": [
    "import re\n",
    "\n",
    "# Cleaning the text data\n",
    "def clean_review(row):\n",
    "    row = re.sub(r\"✅ Trip Verified|Not Verified\", \"\", row)\n",
    "    # Remove any unnecessary characters or emojis\n",
    "    row = re.sub(r'[^\\w\\s]','', row)\n",
    "    return row.strip()\n",
    "\n",
    "df['Cleaned_Review'] = df['reviews'].apply(clean_review)\n",
    "\n",
    "df['Verified'] = df['reviews'].apply(lambda x: 'verified' if \"✅ Trip Verified\" in x else 'unverified')"
   ]
  },
  {
   "cell_type": "code",
   "execution_count": 11,
   "metadata": {},
   "outputs": [
    {
     "name": "stdout",
     "output_type": "stream",
     "text": [
      "       Verified                                     Cleaned_Review\n",
      "0    unverified  Very good flight following an equally good fli...\n",
      "1    unverified  An hours delay due to late arrival of the inco...\n",
      "2      verified  I booked through BA because Loganair dont have...\n",
      "3      verified  British airways lost bags in LHR then found th...\n",
      "4      verified  The check in process and rewardloyalty program...\n",
      "..          ...                                                ...\n",
      "995  unverified  I have often flown British Airways and have co...\n",
      "996  unverified  Good morning I would like to write a review fo...\n",
      "997    verified  My flight was cancelled 3 days in a row Was fl...\n",
      "998    verified  Hong Kong to Copenhagen via London The whole e...\n",
      "999    verified  London Gatwick to San Jose Costa Rica This was...\n",
      "\n",
      "[1000 rows x 2 columns]\n"
     ]
    }
   ],
   "source": [
    "print(df[['Verified', 'Cleaned_Review']])"
   ]
  },
  {
   "cell_type": "code",
   "execution_count": 12,
   "metadata": {},
   "outputs": [
    {
     "name": "stdout",
     "output_type": "stream",
     "text": [
      "                                      Cleaned_Review    Verified\n",
      "0  Very good flight following an equally good fli...  unverified\n",
      "1  An hours delay due to late arrival of the inco...  unverified\n",
      "2  I booked through BA because Loganair dont have...    verified\n",
      "3  British airways lost bags in LHR then found th...    verified\n",
      "4  The check in process and rewardloyalty program...    verified\n"
     ]
    }
   ],
   "source": [
    "df.drop(columns=['reviews', 'Unnamed: 0'], inplace=True)\n",
    "print(df.head())"
   ]
  },
  {
   "cell_type": "code",
   "execution_count": 14,
   "metadata": {},
   "outputs": [],
   "source": [
    "# You can reorder the columns in your DataFrame\n",
    "df = df[['Verified', 'Cleaned_Review']]"
   ]
  },
  {
   "cell_type": "code",
   "execution_count": 15,
   "metadata": {},
   "outputs": [],
   "source": [
    "df = df.rename(columns={'Cleaned_Review': 'Review'})"
   ]
  },
  {
   "cell_type": "markdown",
   "metadata": {},
   "source": [
    "### Step 1: Convert All Text to Lowercase"
   ]
  },
  {
   "cell_type": "code",
   "execution_count": 17,
   "metadata": {},
   "outputs": [
    {
     "name": "stdout",
     "output_type": "stream",
     "text": [
      "     Verified                                             Review\n",
      "0  unverified  very good flight following an equally good fli...\n",
      "1  unverified  an hours delay due to late arrival of the inco...\n",
      "2    verified  i booked through ba because loganair dont have...\n",
      "3    verified  british airways lost bags in lhr then found th...\n",
      "4    verified  the check in process and rewardloyalty program...\n",
      "5    verified  we flew in november 2023 but it took this long...\n",
      "6    verified  i left for london from johannesburg at 2115 on...\n"
     ]
    }
   ],
   "source": [
    "# Convert the 'Review' column to lowercase\n",
    "df['Review'] = df['Review'].str.lower()\n",
    "\n",
    "# Display the updated DataFrame\n",
    "print(df.head(7))\n"
   ]
  },
  {
   "cell_type": "markdown",
   "metadata": {},
   "source": [
    "### Step 2: Remove Numbers"
   ]
  },
  {
   "cell_type": "code",
   "execution_count": 19,
   "metadata": {},
   "outputs": [
    {
     "name": "stdout",
     "output_type": "stream",
     "text": [
      "     Verified                                             Review\n",
      "0  unverified  very good flight following an equally good fli...\n",
      "1  unverified  an hours delay due to late arrival of the inco...\n",
      "2    verified  i booked through ba because loganair dont have...\n",
      "3    verified  british airways lost bags in lhr then found th...\n",
      "4    verified  the check in process and rewardloyalty program...\n",
      "5    verified  we flew in november  but it took this long to ...\n",
      "6    verified  i left for london from johannesburg at  on  de...\n"
     ]
    }
   ],
   "source": [
    "import re\n",
    "\n",
    "# Function to remove numbers\n",
    "def remove_numbers(text):\n",
    "    return re.sub(r'\\d+', '', text)\n",
    "\n",
    "# Apply the function to the 'Review' column\n",
    "df['Review'] = df['Review'].apply(remove_numbers)\n",
    "\n",
    "# Display the updated DataFrame\n",
    "print(df.head(7))\n"
   ]
  },
  {
   "cell_type": "markdown",
   "metadata": {},
   "source": [
    "### Step 3: Remove Punctuation"
   ]
  },
  {
   "cell_type": "code",
   "execution_count": 28,
   "metadata": {},
   "outputs": [],
   "source": [
    "import string\n",
    "\n",
    "# Function to remove punctuation\n",
    "def remove_punctuation(text):\n",
    "    return text.translate(str.maketrans('', '', string.punctuation))\n",
    "\n",
    "# Apply the function to the 'Review' column\n",
    "df['Review'] = df['Review'].apply(remove_punctuation)"
   ]
  },
  {
   "cell_type": "markdown",
   "metadata": {},
   "source": [
    "### Step 4: Remove Extra Whitespaces"
   ]
  },
  {
   "cell_type": "code",
   "execution_count": 29,
   "metadata": {},
   "outputs": [
    {
     "name": "stdout",
     "output_type": "stream",
     "text": [
      "     Verified                                             Review\n",
      "0  unverified  good flight following equally good flight rome...\n",
      "1  unverified  hour delay due late arrival incoming aircraft ...\n",
      "2    verified  booked ba loganair dont representative manches...\n",
      "3    verified  british airway lost bag lar found sent cologne...\n",
      "4    verified  check process rewardloyalty program mess never...\n",
      "5    verified  flew november took long seek satisfactory resp...\n",
      "6    verified  left london johannesburg december issue flight...\n"
     ]
    }
   ],
   "source": [
    "# Function to remove extra spaces\n",
    "def remove_extra_spaces(text):\n",
    "    return \" \".join(text.split())\n",
    "\n",
    "# Apply the function to the 'Review' column\n",
    "df['Review'] = df['Review'].apply(remove_extra_spaces)\n",
    "\n",
    "# Display the updated DataFrame\n",
    "print(df.head(7))\n"
   ]
  },
  {
   "cell_type": "markdown",
   "metadata": {},
   "source": [
    "### Step 5: Remove Stopwords"
   ]
  },
  {
   "cell_type": "code",
   "execution_count": 22,
   "metadata": {},
   "outputs": [
    {
     "name": "stdout",
     "output_type": "stream",
     "text": [
      "     Verified                                             Review\n",
      "0  unverified  good flight following equally good flight rome...\n",
      "1  unverified  hours delay due late arrival incoming aircraft...\n",
      "2    verified  booked ba loganair dont representatives manche...\n",
      "3    verified  british airways lost bags lhr found sent colog...\n",
      "4    verified  check process rewardloyalty program mess never...\n",
      "5    verified  flew november took long seek satisfactory resp...\n",
      "6    verified  left london johannesburg december issue flight...\n"
     ]
    },
    {
     "name": "stderr",
     "output_type": "stream",
     "text": [
      "[nltk_data] Downloading package stopwords to\n",
      "[nltk_data]     C:\\Users\\lucky/nltk_data...\n",
      "[nltk_data]   Package stopwords is already up-to-date!\n"
     ]
    }
   ],
   "source": [
    "import nltk\n",
    "from nltk.corpus import stopwords\n",
    "\n",
    "# Download stopwords if not already downloaded\n",
    "nltk.download('stopwords')\n",
    "stop_words = set(stopwords.words('english'))\n",
    "\n",
    "# Function to remove stopwords\n",
    "def remove_stopwords(text):\n",
    "    return \" \".join([word for word in text.split() if word not in stop_words])\n",
    "\n",
    "# Apply the function to the 'Review' column\n",
    "df['Review'] = df['Review'].apply(remove_stopwords)\n",
    "\n",
    "# Display the updated DataFrame\n",
    "print(df.head(7))\n"
   ]
  },
  {
   "cell_type": "markdown",
   "metadata": {},
   "source": [
    "### Step 6: Perform Lemmatization"
   ]
  },
  {
   "cell_type": "code",
   "execution_count": 23,
   "metadata": {},
   "outputs": [
    {
     "name": "stderr",
     "output_type": "stream",
     "text": [
      "[nltk_data] Downloading package wordnet to C:\\Users\\lucky/nltk_data...\n",
      "[nltk_data]   Package wordnet is already up-to-date!\n"
     ]
    },
    {
     "name": "stdout",
     "output_type": "stream",
     "text": [
      "     Verified                                             Review\n",
      "0  unverified  good flight following equally good flight rome...\n",
      "1  unverified  hour delay due late arrival incoming aircraft ...\n",
      "2    verified  booked ba loganair dont representative manches...\n",
      "3    verified  british airway lost bag lhr found sent cologne...\n",
      "4    verified  check process rewardloyalty program mess never...\n",
      "5    verified  flew november took long seek satisfactory resp...\n",
      "6    verified  left london johannesburg december issue flight...\n"
     ]
    }
   ],
   "source": [
    "from nltk.stem import WordNetLemmatizer\n",
    "\n",
    "# Download WordNet data if not already downloaded\n",
    "nltk.download('wordnet')\n",
    "\n",
    "lemmatizer = WordNetLemmatizer()\n",
    "\n",
    "# Function to apply lemmatization\n",
    "def lemmatize_text(text):\n",
    "    return \" \".join([lemmatizer.lemmatize(word) for word in text.split()])\n",
    "\n",
    "# Apply the function to the 'Review' column\n",
    "df['Review'] = df['Review'].apply(lemmatize_text)\n",
    "\n",
    "# Display the updated DataFrame\n",
    "print(df.head(7))\n"
   ]
  },
  {
   "cell_type": "markdown",
   "metadata": {},
   "source": [
    "### Step 7: Correct Spelling"
   ]
  },
  {
   "cell_type": "code",
   "execution_count": 27,
   "metadata": {},
   "outputs": [
    {
     "name": "stdout",
     "output_type": "stream",
     "text": [
      "     Verified                                             Review\n",
      "0  unverified  good flight following equally good flight rome...\n",
      "1  unverified  hour delay due late arrival incoming aircraft ...\n",
      "2    verified  booked ba loganair don't representative manche...\n",
      "3    verified  british airway lost bag lar found sent cologne...\n",
      "4    verified  check process rewardloyalty program mess never...\n"
     ]
    }
   ],
   "source": [
    "from spellchecker import SpellChecker\n",
    "\n",
    "# Initialize the SpellChecker\n",
    "spell = SpellChecker()\n",
    "\n",
    "# Function to correct spelling\n",
    "# Function to correct spelling\n",
    "def correct_spelling(text):\n",
    "    words = text.split()\n",
    "    corrected_words = [spell.correction(word) if spell.correction(word) is not None else word for word in words]\n",
    "    return \" \".join(corrected_words)\n",
    "\n",
    "df['Review'] = df['Review'].apply(correct_spelling)\n",
    "''' import swifter\n",
    "    df['Corrected_Reviews'] = df['Reviews'].swifter.apply(correct_spelling)\n",
    "    It it will be apply large dataset like more than 10000'''\n",
    "\n",
    "# Display the updated DataFrame\n",
    "print(df.head())\n"
   ]
  },
  {
   "cell_type": "code",
   "execution_count": 30,
   "metadata": {},
   "outputs": [
    {
     "data": {
      "text/html": [
       "<div>\n",
       "<style scoped>\n",
       "    .dataframe tbody tr th:only-of-type {\n",
       "        vertical-align: middle;\n",
       "    }\n",
       "\n",
       "    .dataframe tbody tr th {\n",
       "        vertical-align: top;\n",
       "    }\n",
       "\n",
       "    .dataframe thead th {\n",
       "        text-align: right;\n",
       "    }\n",
       "</style>\n",
       "<table border=\"1\" class=\"dataframe\">\n",
       "  <thead>\n",
       "    <tr style=\"text-align: right;\">\n",
       "      <th></th>\n",
       "      <th>Verified</th>\n",
       "      <th>Review</th>\n",
       "    </tr>\n",
       "  </thead>\n",
       "  <tbody>\n",
       "    <tr>\n",
       "      <th>0</th>\n",
       "      <td>unverified</td>\n",
       "      <td>good flight following equally good flight rome...</td>\n",
       "    </tr>\n",
       "    <tr>\n",
       "      <th>1</th>\n",
       "      <td>unverified</td>\n",
       "      <td>hour delay due late arrival incoming aircraft ...</td>\n",
       "    </tr>\n",
       "    <tr>\n",
       "      <th>2</th>\n",
       "      <td>verified</td>\n",
       "      <td>booked ba loganair dont representative manches...</td>\n",
       "    </tr>\n",
       "    <tr>\n",
       "      <th>3</th>\n",
       "      <td>verified</td>\n",
       "      <td>british airway lost bag lar found sent cologne...</td>\n",
       "    </tr>\n",
       "    <tr>\n",
       "      <th>4</th>\n",
       "      <td>verified</td>\n",
       "      <td>check process rewardloyalty program mess never...</td>\n",
       "    </tr>\n",
       "  </tbody>\n",
       "</table>\n",
       "</div>"
      ],
      "text/plain": [
       "     Verified                                             Review\n",
       "0  unverified  good flight following equally good flight rome...\n",
       "1  unverified  hour delay due late arrival incoming aircraft ...\n",
       "2    verified  booked ba loganair dont representative manches...\n",
       "3    verified  british airway lost bag lar found sent cologne...\n",
       "4    verified  check process rewardloyalty program mess never..."
      ]
     },
     "execution_count": 30,
     "metadata": {},
     "output_type": "execute_result"
    }
   ],
   "source": [
    "df.head()"
   ]
  },
  {
   "cell_type": "code",
   "execution_count": 31,
   "metadata": {},
   "outputs": [],
   "source": [
    "# Save the cleaned data to a new CSV file\n",
    "df.to_csv(\"data/cleaned_data.csv\", index=False)"
   ]
  }
 ],
 "metadata": {
  "kernelspec": {
   "display_name": "Python (venv)",
   "language": "python",
   "name": "venv"
  },
  "language_info": {
   "codemirror_mode": {
    "name": "ipython",
    "version": 3
   },
   "file_extension": ".py",
   "mimetype": "text/x-python",
   "name": "python",
   "nbconvert_exporter": "python",
   "pygments_lexer": "ipython3",
   "version": "3.8.20"
  }
 },
 "nbformat": 4,
 "nbformat_minor": 2
}
